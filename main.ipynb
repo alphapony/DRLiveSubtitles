{
 "cells": [
  {
   "cell_type": "markdown",
   "id": "973bc207",
   "metadata": {},
   "source": [
    "Importerer relevante libaries"
   ]
  },
  {
   "cell_type": "code",
   "execution_count": null,
   "id": "55fcbcdb",
   "metadata": {},
   "outputs": [],
   "source": [
    "from selenium import webdriver\n",
    "from selenium.webdriver.common.keys import Keys\n",
    "from selenium.webdriver.common.by import By"
   ]
  },
  {
   "cell_type": "markdown",
   "id": "c183ddbf",
   "metadata": {},
   "source": [
    "Navigerer til dr.dk via Chrome"
   ]
  },
  {
   "cell_type": "code",
   "execution_count": null,
   "id": "1f902161",
   "metadata": {},
   "outputs": [],
   "source": [
    "driver = webdriver.Chrome()\n",
    "driver.get(\"https://www.dr.dk/\")"
   ]
  },
  {
   "cell_type": "markdown",
   "id": "8b6618f5",
   "metadata": {},
   "source": [
    "Tjekker at vi er på den rigtige side"
   ]
  },
  {
   "cell_type": "code",
   "execution_count": null,
   "id": "36fd4bee",
   "metadata": {},
   "outputs": [],
   "source": [
    "assert \"DR | Nyheder - Breaking - TV - Radio\" in driver.title"
   ]
  },
  {
   "cell_type": "markdown",
   "id": "3bee24db",
   "metadata": {},
   "source": [
    "Identificerer \"accepter cookies\"-knappen i vinduet"
   ]
  },
  {
   "cell_type": "code",
   "execution_count": null,
   "id": "65ace892",
   "metadata": {},
   "outputs": [],
   "source": [
    "elem = driver.find_element(\"name\",\"submit\")"
   ]
  },
  {
   "cell_type": "code",
   "execution_count": null,
   "id": "8d172b9d",
   "metadata": {
    "scrolled": true
   },
   "outputs": [],
   "source": [
    "print(elem)"
   ]
  },
  {
   "cell_type": "markdown",
   "id": "b53dda3b",
   "metadata": {},
   "source": [
    "Checker vi har fundet den rigtige knap"
   ]
  },
  {
   "cell_type": "code",
   "execution_count": null,
   "id": "152fd44d",
   "metadata": {},
   "outputs": [],
   "source": [
    "elem.get_attribute(\"aria-label\")"
   ]
  },
  {
   "cell_type": "markdown",
   "id": "bc5a3158",
   "metadata": {},
   "source": [
    "Accepterer cookies"
   ]
  },
  {
   "cell_type": "code",
   "execution_count": null,
   "id": "d6672a6f",
   "metadata": {},
   "outputs": [],
   "source": [
    "elem.click()"
   ]
  },
  {
   "cell_type": "markdown",
   "id": "d42ab389",
   "metadata": {},
   "source": [
    "Finder alle elementer der har DRTV's klasse"
   ]
  },
  {
   "cell_type": "code",
   "execution_count": null,
   "id": "2e236d10",
   "metadata": {},
   "outputs": [],
   "source": [
    "frontPageLinks = driver.find_elements(By.CLASS_NAME, \"dre-navigation-main-links__item\")"
   ]
  },
  {
   "cell_type": "markdown",
   "id": "7476b6c3",
   "metadata": {},
   "source": [
    "Identificerer DRTV og assigner elementet til elem2"
   ]
  },
  {
   "cell_type": "code",
   "execution_count": null,
   "id": "a165f047",
   "metadata": {},
   "outputs": [],
   "source": [
    "for e in frontPageLinks:\n",
    "    print(e.text)\n",
    "    if e.text == \"DRTV\":\n",
    "        elem2 = e"
   ]
  },
  {
   "cell_type": "code",
   "execution_count": null,
   "id": "16e5341b",
   "metadata": {},
   "outputs": [],
   "source": [
    "print(elem2)"
   ]
  },
  {
   "cell_type": "markdown",
   "id": "c9e93bc8",
   "metadata": {},
   "source": [
    "Klikker på DRTV og navigerer dertil"
   ]
  },
  {
   "cell_type": "code",
   "execution_count": null,
   "id": "f47290f2",
   "metadata": {},
   "outputs": [],
   "source": [
    "elem2.click()"
   ]
  },
  {
   "cell_type": "markdown",
   "id": "6aef90f0",
   "metadata": {},
   "source": [
    "Gentager operationen fra sidst for at navigere til \"drtv/kanal\"-siden"
   ]
  },
  {
   "cell_type": "code",
   "execution_count": null,
   "id": "7caac4ed",
   "metadata": {},
   "outputs": [],
   "source": [
    "DRTVPageLinks = driver.find_elements(By.CLASS_NAME, \"primary-nav__entry-link\")"
   ]
  },
  {
   "cell_type": "code",
   "execution_count": null,
   "id": "be4f1e37",
   "metadata": {},
   "outputs": [],
   "source": [
    "for e in DRTVPageLinks:\n",
    "    if e.text == \"LIVE\":\n",
    "        elem3 = e"
   ]
  },
  {
   "cell_type": "code",
   "execution_count": null,
   "id": "0a70706c",
   "metadata": {},
   "outputs": [],
   "source": [
    "print(elem3.text)"
   ]
  },
  {
   "cell_type": "code",
   "execution_count": null,
   "id": "34e05a50",
   "metadata": {},
   "outputs": [],
   "source": [
    "elem3.click()"
   ]
  },
  {
   "cell_type": "markdown",
   "id": "159d77ec",
   "metadata": {},
   "source": [
    "Identificerer undertekstknappen vha. klassenavnet og aria-label."
   ]
  },
  {
   "cell_type": "code",
   "execution_count": null,
   "id": "0ab7a924",
   "metadata": {},
   "outputs": [],
   "source": [
    "LivePageLinks = driver.find_elements(By.CLASS_NAME, \"player-button__subtitle\")"
   ]
  },
  {
   "cell_type": "code",
   "execution_count": null,
   "id": "17424bc7",
   "metadata": {},
   "outputs": [],
   "source": [
    "for e in LivePageLinks:\n",
    "    print(e.text)\n",
    "    if e.get_attribute(\"aria-label\") == \"Undertekster\":\n",
    "        elem4 = e"
   ]
  },
  {
   "cell_type": "code",
   "execution_count": null,
   "id": "5fd7ad41",
   "metadata": {},
   "outputs": [],
   "source": [
    "print(elem4.get_attribute(\"aria-label\"))"
   ]
  },
  {
   "cell_type": "markdown",
   "id": "c1519cb4",
   "metadata": {},
   "source": [
    "Programmet fortæller om knappen eksisterer i det øjeblik skriptet køres."
   ]
  },
  {
   "cell_type": "code",
   "execution_count": null,
   "id": "2e2bcdb6",
   "metadata": {},
   "outputs": [],
   "source": [
    "if elem4 == None:\n",
    "    print(\"Der er ingen undertekster på DR1 lige nu...\")\n",
    "else:\n",
    "    print(\"Der skulle gerne være undertekster på DR1 lige nu...\")"
   ]
  }
 ],
 "metadata": {
  "kernelspec": {
   "display_name": "Python 3 (ipykernel)",
   "language": "python",
   "name": "python3"
  },
  "language_info": {
   "codemirror_mode": {
    "name": "ipython",
    "version": 3
   },
   "file_extension": ".py",
   "mimetype": "text/x-python",
   "name": "python",
   "nbconvert_exporter": "python",
   "pygments_lexer": "ipython3",
   "version": "3.8.12"
  }
 },
 "nbformat": 4,
 "nbformat_minor": 5
}
